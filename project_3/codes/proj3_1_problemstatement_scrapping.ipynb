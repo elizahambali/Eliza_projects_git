{
 "cells": [
  {
   "cell_type": "markdown",
   "id": "2b0402c1-866a-4f1b-ae41-e6dad72bcaf6",
   "metadata": {},
   "source": [
    "# Background\n",
    "\n"
   ]
  },
  {
   "cell_type": "markdown",
   "id": "59679023-fb9a-4af8-9997-b347328cc2c1",
   "metadata": {},
   "source": [
    "Apple was created in 1976, by Steve Jobs, a 21-year-old San-Francisco-born hippie, together with Steve Wozniak. But, Wozniak was the person who first built the Apple product called ‘Apple I'. However, by 1997, Jobs led Apple through a massive growth period when he launched iMac, MacOS10, iPod, and iTunes. But it was the iPhone, which launched on 29 June 2007 that overtook the market share. Since then, Apple sold around 2.8b smartphones to date, including 242m devices, last year alone in 2022.\n",
    "\n",
    "Samsung was founded in 1938 by 28-year-old Lee Byung-Chull. Initially, Samsung was a small trading company dealing in dried fish and noodles. But with the expansion to numerous industries including textile and financial services, Samsung found its golden goose in the late 1960s in the electronics business. There was immense growth in the 1970s and 1980s in its semiconductor business. But, on 29 June 2009,  two years after the iPhone was launched, Samsung introduced the ‘Samsung Galaxy’, its first smartphone.  Since then, Samsung has sold 2b smartphones, and 272m smartphones just in the past year in 2022.\n",
    "\n",
    "source: https://hellostake.com/nz/blog/stake-updates/head-to-head-apple-vs-samsung"
   ]
  },
  {
   "cell_type": "markdown",
   "id": "a2592b3c-92cd-45b2-925c-7477d9ab81bd",
   "metadata": {
    "tags": []
   },
   "source": [
    "# Problem Statement"
   ]
  },
  {
   "cell_type": "markdown",
   "id": "e0cc392c-f8b1-4080-b94e-9a63869303a8",
   "metadata": {},
   "source": [
    "- An advertising agency would like to do a marketing campaign to increase the market mindshare for Samsung products in particular mobile smartphones and in turn drive up sales. While Samsung is one of the top leads in the smartphone market share worldwide at 23%, Apple is close behind.\n",
    "- As part of the marketing campaign preparation, the agency would like to understand the brand mindshare of its products from the internet particularly in the user-generated-content (UGC) domain such as social media channels ie facebook, instagram, twitter and review channels such as tech.radar,trustedreviews.com etc. They were tasked to scrap through all the UGC channels from twitter, facebook, instagram, amazon, reddits to explore and discover what consumers are talking about Samsung; understand the word associations and topics of interest for Samsung consumers.\n",
    "- The marketing team approached the task with the manual laborious approach of cut-copy-paste from the respective UGC channels and classified them according to its respective buckets i.e. Samsung and its competitors Apple, Oppo etc.\n",
    "- This approach took too much time which was better spend on creating the most effective marketing mix for the campaign, talking to stakeholders, designers etc. \n",
    "- To resolve their problem, the marketing team approached the data science team for help; and the data science team decided to create a simple NLP model that would help the marketing team in saving time. \n",
    "- To kick-start, they have identified r/samsung (sub-reddit of samsung) to build an NLP machine learning model and apply it to other UGC channels, with r/apple as its model comparison. \n",
    "- The goal is on information retrieval on user generated content across all UGC channels particularly Samsung products. The intent is to scrape all the comments, posts and reviews related to Samsung and place it in the correct Samsung bucket. After this task 1 classification, the 2nd task is to look through all the Samsung posts, reviews etc and deep dive and understand the word associations and topics of interest for Samsung consumers; and with these insights create an effective marketing campaign.\n",
    "- In summary, the machine learning model is tasked to correctly identify content that is Samsung related and place them in the right label category i.e. \"Samsung\"; to meet the goal of task 1 classification. This would save the marketing team time on the laborious manual process of classifying the content across all UGC channels. "
   ]
  },
  {
   "cell_type": "markdown",
   "id": "a158fcfd-5db8-45ba-81b8-5f32669ced79",
   "metadata": {
    "tags": []
   },
   "source": [
    "### Import Libraries\n"
   ]
  },
  {
   "cell_type": "code",
   "execution_count": 2,
   "id": "04766cff-9e35-41d8-aa2b-51850b6cf985",
   "metadata": {},
   "outputs": [],
   "source": [
    "import pandas as pd\n",
    "import praw"
   ]
  },
  {
   "cell_type": "markdown",
   "id": "12623dfb-2d88-4df8-bdb8-68f17997f728",
   "metadata": {},
   "source": [
    "### Web scrapping from r/apple and r/samsung"
   ]
  },
  {
   "cell_type": "code",
   "execution_count": 3,
   "id": "dd0da243-eb5c-4c00-8500-ab2c914673af",
   "metadata": {},
   "outputs": [],
   "source": [
    "reddit = praw.Reddit(\n",
    "    client_id=\"_q9uJzv3B9pJ0JLMlkqKVQ\",\n",
    "    client_secret=\"yuqJYrPq6fEYY9bTPCqPnp2S77y08A\",\n",
    "    password=\"seaFinder29!\",\n",
    "    user_agent=\"project_webscrape\",\n",
    "    username=\"mumfordseas\",\n",
    ")"
   ]
  },
  {
   "cell_type": "code",
   "execution_count": 4,
   "id": "17bfa976-111a-41b3-94d1-d96a3166233a",
   "metadata": {},
   "outputs": [],
   "source": [
    "#dataframe hot and new apple post \n",
    "\n",
    "posts = []\n",
    "r_apple = reddit.subreddit('apple')\n",
    "for post in r_apple.hot(limit=1000):\n",
    "    posts.append([post.title, post.score, post.id, post.subreddit, post.url, post.num_comments, post.selftext, post.created])\n",
    "hotapple_posts = pd.DataFrame(posts,columns=['title', 'score', 'id', 'subreddit', 'url', 'num_comments', 'body', 'created'])\n",
    "\n",
    "posts = []\n",
    "r_apple = reddit.subreddit('apple')\n",
    "for post in r_apple.new(limit=1000):\n",
    "    posts.append([post.title, post.score, post.id, post.subreddit, post.url, post.num_comments, post.selftext, post.created])\n",
    "newapple_posts = pd.DataFrame(posts,columns=['title', 'score', 'id', 'subreddit', 'url', 'num_comments', 'body', 'created'])\n",
    "\n",
    "#dataframe hot and new samsung post \n",
    "\n",
    "posts = []\n",
    "r_samsung = reddit.subreddit('samsung')\n",
    "for post in r_samsung.hot(limit=1000):\n",
    "    posts.append([post.title, post.score, post.id, post.subreddit, post.url, post.num_comments, post.selftext, post.created])\n",
    "hotsamsung_posts = pd.DataFrame(posts,columns=['title', 'score', 'id', 'subreddit', 'url', 'num_comments', 'body', 'created'])\n",
    "\n",
    "posts = []\n",
    "r_samsung = reddit.subreddit('samsung')\n",
    "for post in r_samsung.new(limit=1000):\n",
    "    posts.append([post.title, post.score, post.id, post.subreddit, post.url, post.num_comments, post.selftext, post.created])\n",
    "newsamsung_posts = pd.DataFrame(posts,columns=['title', 'score', 'id', 'subreddit', 'url', 'num_comments', 'body', 'created'])"
   ]
  },
  {
   "cell_type": "code",
   "execution_count": 5,
   "id": "9a3eebf5-593e-4d1f-9a74-7142b8576223",
   "metadata": {},
   "outputs": [
    {
     "name": "stdout",
     "output_type": "stream",
     "text": [
      "(707, 8)\n",
      "(678, 8)\n",
      "(433, 8)\n",
      "(992, 8)\n"
     ]
    }
   ],
   "source": [
    "#check shape to ensure >1000 posts\n",
    "print(hotapple_posts.shape)\n",
    "print(newapple_posts.shape)\n",
    "print(hotsamsung_posts.shape)\n",
    "print(newsamsung_posts.shape)"
   ]
  },
  {
   "cell_type": "code",
   "execution_count": 6,
   "id": "c38e86d8-b605-4228-a3c5-d60f56103df5",
   "metadata": {},
   "outputs": [
    {
     "data": {
      "text/plain": [
       "(1385, 8)"
      ]
     },
     "execution_count": 6,
     "metadata": {},
     "output_type": "execute_result"
    }
   ],
   "source": [
    "#combine and save apple posts\n",
    "apple_results= pd.concat([hotapple_posts,newapple_posts],ignore_index=True)\n",
    "apple_results.shape"
   ]
  },
  {
   "cell_type": "code",
   "execution_count": 7,
   "id": "5f5fed5c-2576-40e7-8240-a8050d15a218",
   "metadata": {},
   "outputs": [
    {
     "data": {
      "text/plain": [
       "(1425, 8)"
      ]
     },
     "execution_count": 7,
     "metadata": {},
     "output_type": "execute_result"
    }
   ],
   "source": [
    "#combine and save samsung posts\n",
    "samsung_results= pd.concat([hotsamsung_posts,newsamsung_posts],ignore_index=True)\n",
    "samsung_results.shape"
   ]
  },
  {
   "cell_type": "code",
   "execution_count": 8,
   "id": "520baef7-1a5f-4e6b-a45d-9c35eaeb1473",
   "metadata": {},
   "outputs": [],
   "source": [
    "#save apple and samsung results into csv file\n",
    "apple_results.to_csv(path_or_buf='../datasets/posts_apple.csv',index=False, header = True)\n",
    "samsung_results.to_csv(path_or_buf='../datasets/posts_samsung.csv',index=False, header = True)"
   ]
  },
  {
   "cell_type": "code",
   "execution_count": 9,
   "id": "a8a509fa-ceaa-4393-8f99-3dd9b2906aef",
   "metadata": {},
   "outputs": [
    {
     "data": {
      "text/plain": [
       "(2810, 8)"
      ]
     },
     "execution_count": 9,
     "metadata": {},
     "output_type": "execute_result"
    }
   ],
   "source": [
    "#combine all into 1 dataframe and save it in a csv for modelling\n",
    "results= pd.concat([hotapple_posts,newapple_posts,hotsamsung_posts,newsamsung_posts],ignore_index=True)\n",
    "results.shape"
   ]
  },
  {
   "cell_type": "code",
   "execution_count": 10,
   "id": "73e4659c-bc92-40e1-88a7-cbc4e21354c0",
   "metadata": {},
   "outputs": [],
   "source": [
    "#save into csv file\n",
    "results.to_csv(path_or_buf='../datasets/posts_results.csv',index=False, header = True)"
   ]
  }
 ],
 "metadata": {
  "kernelspec": {
   "display_name": "dsi-sg",
   "language": "python",
   "name": "dsi-sg"
  },
  "language_info": {
   "codemirror_mode": {
    "name": "ipython",
    "version": 3
   },
   "file_extension": ".py",
   "mimetype": "text/x-python",
   "name": "python",
   "nbconvert_exporter": "python",
   "pygments_lexer": "ipython3",
   "version": "3.9.13"
  }
 },
 "nbformat": 4,
 "nbformat_minor": 5
}
